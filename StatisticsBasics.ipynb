{
  "nbformat": 4,
  "nbformat_minor": 0,
  "metadata": {
    "colab": {
      "provenance": []
    },
    "kernelspec": {
      "name": "python3",
      "display_name": "Python 3"
    },
    "language_info": {
      "name": "python"
    }
  },
  "cells": [
    {
      "cell_type": "markdown",
      "source": [
        "#STATISTICS BASICS"
      ],
      "metadata": {
        "id": "pwUe5uLT2rIq"
      }
    },
    {
      "cell_type": "markdown",
      "source": [
        "1. What is statistics, and why is it important?\n",
        "   - Statistics is the science of collecting, organizing, analyzing, and interpreting data to make informed decisions. It’s important because it helps in understanding patterns, making predictions, and guiding decision-making in fields like science, business, health, and economics.\n",
        "\n",
        "2. What are the two main types of statistics?\n",
        "   - The two main types are descriptive statistics, which summarize data, and inferential statistics, which use data from a sample to make generalizations about a population.\n",
        "\n",
        "3. What are descriptive statistics?\n",
        "   - Descriptive statistics involve methods like mean, median, mode, and standard deviation to summarize and describe the main features of a dataset.\n",
        "\n",
        "4. What is inferential statistics?\n",
        "   - Inferential statistics draw conclusions about a population based on sample data using techniques like hypothesis testing, confidence intervals, and regression.\n",
        "\n",
        "5. What is sampling in statistics?\n",
        "   - Sampling is the process of selecting a subset of individuals from a population to analyze and draw conclusions about the entire group.\n",
        "\n",
        "6. What are the different types of sampling methods?\n",
        "   - Common methods include random sampling, systematic sampling, stratified sampling, cluster sampling, and convenience sampling.\n",
        "\n",
        "7. What is the difference between random and non-random sampling?\n",
        "   - Random sampling gives each member an equal chance of selection, ensuring objectivity, while non-random sampling relies on subjective choices, which may lead to bias.\n",
        "\n",
        "8. Define and give examples of qualitative and quantitative data?\n",
        "   - Qualitative data describes categories or qualities (e.g., gender, color), while quantitative data involves numbers and measurements (e.g., age, weight).\n",
        "\n",
        "9. What are the different types of data in statistics?\n",
        "   - Data types include nominal, ordinal, interval, and ratio, which determine the level of measurement and appropriate statistical methods.\n",
        "\n",
        "10. Explain nominal, ordinal, interval, and ratio levels of measurement.\n",
        "   - Nominal data are categories (e.g., blood type), ordinal shows order (e.g., rankings), interval has equal spacing without a true zero (e.g., temperature), and ratio has a true zero (e.g., height, weight).\n",
        "\n",
        "11. What is the measure of central tendency?\n",
        "   - It refers to values that represent the center or average of a dataset, mainly using mean, median, and mode.\n",
        "\n",
        "12. Define mean, median, and mode.\n",
        "   - Mean is the average, median is the middle value, and mode is the most frequent value in a dataset.\n",
        "\n",
        "13. What is the significance of the measure of central tendency?\n",
        "   - It helps summarize large data sets with a single representative value, making data easier to interpret and compare.\n",
        "\n",
        "14. What is variance, and how is it calculated?\n",
        "   - Variance measures how much data points deviate from the mean. It’s calculated as the average of the squared differences from the mean.\n",
        "\n",
        "15. What is standard deviation, and why is it important?\n",
        "   - Standard deviation is the square root of variance and shows how spread out the data is. It’s important for understanding variability and consistency.\n",
        "\n",
        "16. Define and explain the term range in statistics.\n",
        "   - Range is the difference between the highest and lowest values in a dataset. It gives a quick sense of the data’s spread.\n",
        "\n",
        "17. What is the difference between variance and standard deviation?\n",
        "   - Both measure spread, but variance uses squared units while standard deviation returns values in the original units of the data, making it more interpretable.\n",
        "\n",
        "18. What is skewness in a dataset?\n",
        "   - Skewness measures the asymmetry of a data distribution. A skewed dataset has a longer tail on one side.\n",
        "\n",
        "19. What does it mean if a dataset is positively or negatively skewed?\n",
        "   - Positively skewed means the tail is on the right (more low values), while negatively skewed means the tail is on the left (more high values).\n",
        "\n",
        "20. Define and explain kurtosis.\n",
        "   - Kurtosis measures the \"tailedness\" of a distribution. High kurtosis means more outliers, while low kurtosis means fewer extreme values.\n",
        "\n",
        "21. What is the purpose of covariance?\n",
        "   - Covariance indicates the direction of the relationship between two variables—positive if they increase together, negative if one increases while the other decreases.\n",
        "\n",
        "21. What does correlation measure in statistics?\n",
        "   - Correlation quantifies the strength and direction of a linear relationship between two variables, typically ranging from -1 to +1.\n",
        "\n",
        "22. What is the difference between covariance and correlation?\n",
        "   - While both show relationships, covariance gives direction without scale, whereas correlation is standardized and shows both direction and strength.\n",
        "\n",
        "23. What are some real-world applications of statistics?\n",
        "  - Statistics is used in healthcare (clinical trials), economics (market trends), business (customer analysis), sports (performance metrics), and government (policy making).\n",
        "\n"
      ],
      "metadata": {
        "id": "752vOVUe2y8t"
      }
    },
    {
      "cell_type": "markdown",
      "source": [
        "#PRACTICAL QUESTIONS"
      ],
      "metadata": {
        "id": "NBTPZFyP53-g"
      }
    },
    {
      "cell_type": "code",
      "source": [
        "#  How do you calculate the mean, median, and mode of a dataset?\n",
        "\n",
        "import statistics\n",
        "\n",
        "data = [4, 5, 6, 8, 9, 9]\n",
        "\n",
        "mean = statistics.mean(data)\n",
        "median = statistics.median(data)\n",
        "mode = statistics.mode(data)\n",
        "\n",
        "print(\"Mean:\", mean)\n",
        "print(\"Median:\", median)\n",
        "print(\"Mode:\", mode)\n",
        "\n"
      ],
      "metadata": {
        "id": "vcKxGzSB_x8s",
        "outputId": "12ba3dd9-8406-4ed0-a2e5-5c19f085cbc0",
        "colab": {
          "base_uri": "https://localhost:8080/"
        }
      },
      "execution_count": 2,
      "outputs": [
        {
          "output_type": "stream",
          "name": "stdout",
          "text": [
            "Mean: 6.833333333333333\n",
            "Median: 7.0\n",
            "Mode: 9\n"
          ]
        }
      ]
    },
    {
      "cell_type": "code",
      "source": [
        "#  Write a Python program to compute the variance and standard deviation of a dataset\n",
        "\n",
        "import statistics\n",
        "\n",
        "data = [10, 12, 23, 23, 16, 23, 21, 16]\n",
        "\n",
        "variance = statistics.variance(data)\n",
        "std_dev = statistics.stdev(data)\n",
        "\n",
        "print(\"Variance:\", variance)\n",
        "print(\"Standard Deviation:\", std_dev)\n"
      ],
      "metadata": {
        "id": "xfJSHUYPAKxP",
        "outputId": "2356e014-f3f0-4184-b86e-49d5f2041089",
        "colab": {
          "base_uri": "https://localhost:8080/"
        }
      },
      "execution_count": 3,
      "outputs": [
        {
          "output_type": "stream",
          "name": "stdout",
          "text": [
            "Variance: 27.428571428571427\n",
            "Standard Deviation: 5.237229365663818\n"
          ]
        }
      ]
    },
    {
      "cell_type": "code",
      "source": [
        "# Implement sampling techniques like random sampling and stratified sampling\n",
        "\n",
        "import pandas as pd\n",
        "from sklearn.model_selection import train_test_split\n",
        "\n",
        "data = pd.DataFrame({'Group': ['A']*5 + ['B']*5, 'Value': range(10)})\n",
        "\n",
        "# Random Sampling\n",
        "random_sample = data.sample(n=4)\n",
        "\n",
        "# Stratified Sampling\n",
        "stratified_sample, _ = train_test_split(data, stratify=data['Group'], test_size=0.5)\n",
        "\n",
        "print(\"Random Sample:\\n\", random_sample)\n",
        "print(\"Stratified Sample:\\n\", stratified_sample)\n"
      ],
      "metadata": {
        "id": "cUN9PhjlAXw5"
      },
      "execution_count": null,
      "outputs": []
    },
    {
      "cell_type": "code",
      "source": [
        "# Write a Python function to calculate the range of a dataset\n",
        "\n",
        "def calculate_range(data):\n",
        "    return max(data) - min(data)\n",
        "\n",
        "data = [2, 8, 4, 10, 6]\n",
        "print(\"Range:\", calculate_range(data))\n"
      ],
      "metadata": {
        "id": "5353xHIMAXuF"
      },
      "execution_count": null,
      "outputs": []
    },
    {
      "cell_type": "code",
      "source": [
        "# Create a dataset and plot its histogram to visualize skewness\n",
        "\n",
        "import matplotlib.pyplot as plt\n",
        "\n",
        "data = [1, 2, 2, 3, 4, 10, 15]\n",
        "\n",
        "plt.hist(data, bins=5)\n",
        "plt.title(\"Histogram\")\n",
        "plt.xlabel(\"Values\")\n",
        "plt.ylabel(\"Frequency\")\n",
        "plt.show()\n"
      ],
      "metadata": {
        "id": "C9pi0wliAXrA"
      },
      "execution_count": null,
      "outputs": []
    },
    {
      "cell_type": "code",
      "source": [
        "# Calculate skewness and kurtosis of a dataset using Python libraries\n",
        "\n",
        "from scipy.stats import skew, kurtosis\n",
        "\n",
        "data = [1, 2, 2, 3, 4, 10, 15]\n",
        "\n",
        "print(\"Skewness:\", skew(data))\n",
        "print(\"Kurtosis:\", kurtosis(data))\n"
      ],
      "metadata": {
        "id": "-f9Hq9zVAXoD"
      },
      "execution_count": null,
      "outputs": []
    },
    {
      "cell_type": "code",
      "source": [
        "# Generate a dataset and demonstrate positive and negative skewness\n",
        "\n",
        "import numpy as np\n",
        "import seaborn as sns\n",
        "import matplotlib.pyplot as plt\n",
        "\n",
        "# Positive skew\n",
        "pos_skew = np.random.exponential(scale=2, size=1000)\n",
        "\n",
        "# Negative skew\n",
        "neg_skew = -np.random.exponential(scale=2, size=1000)\n",
        "\n",
        "sns.histplot(pos_skew, kde=True)\n",
        "plt.title(\"Positive Skew\")\n",
        "plt.show()\n",
        "\n",
        "sns.histplot(neg_skew, kde=True)\n",
        "plt.title(\"Negative Skew\")\n",
        "plt.show()\n"
      ],
      "metadata": {
        "id": "_8XbOZ1wAXlf"
      },
      "execution_count": null,
      "outputs": []
    },
    {
      "cell_type": "code",
      "source": [
        "#  Write a Python script to calculate covariance between two datasets\n",
        "\n",
        "import numpy as np\n",
        "\n",
        "x = [2, 4, 6, 8]\n",
        "y = [1, 3, 2, 5]\n",
        "\n",
        "cov_matrix = np.cov(x, y)\n",
        "print(\"Covariance:\", cov_matrix[0, 1])\n"
      ],
      "metadata": {
        "id": "yS_s37IuAXif"
      },
      "execution_count": null,
      "outputs": []
    },
    {
      "cell_type": "code",
      "source": [
        "# Write a Python script to calculate the correlation coefficient between two datasets\n",
        "\n",
        "import numpy as np\n",
        "\n",
        "x = [2, 4, 6, 8]\n",
        "y = [1, 3, 2, 5]\n",
        "\n",
        "corr_matrix = np.corrcoef(x, y)\n",
        "print(\"Correlation Coefficient:\", corr_matrix[0, 1])\n"
      ],
      "metadata": {
        "id": "BdRs_QV5AXfY"
      },
      "execution_count": null,
      "outputs": []
    },
    {
      "cell_type": "code",
      "source": [
        "#  Create a scatter plot to visualize the relationship between two variables\n",
        "\n",
        "import matplotlib.pyplot as plt\n",
        "\n",
        "x = [1, 2, 3, 4, 5]\n",
        "y = [2, 4, 1, 8, 7]\n",
        "\n",
        "plt.scatter(x, y)\n",
        "plt.title(\"Scatter Plot\")\n",
        "plt.xlabel(\"X\")\n",
        "plt.ylabel(\"Y\")\n",
        "plt.show()\n"
      ],
      "metadata": {
        "id": "DQzxr3_jAXcX"
      },
      "execution_count": null,
      "outputs": []
    },
    {
      "cell_type": "code",
      "source": [
        "# Implement and compare simple random sampling and systematic sampling\n",
        "\n",
        "import numpy as np\n",
        "import pandas as pd\n",
        "\n",
        "data = pd.DataFrame({'Value': range(1, 21)})\n",
        "\n",
        "# Simple random sampling\n",
        "simple_random = data.sample(n=5)\n",
        "\n",
        "# Systematic sampling (every 4th element)\n",
        "systematic = data.iloc[::4]\n",
        "\n",
        "print(\"Simple Random:\\n\", simple_random)\n",
        "print(\"Systematic:\\n\", systematic)\n"
      ],
      "metadata": {
        "id": "2hBOvTkXAXZo"
      },
      "execution_count": null,
      "outputs": []
    },
    {
      "cell_type": "code",
      "source": [
        "Calculate the mean, median, and mode of grouped data\n",
        "\n",
        "import pandas as pd\n",
        "import statistics\n",
        "\n",
        "# Grouped data\n",
        "data = pd.Series([10, 10, 20, 20, 20, 30, 30, 40])\n",
        "\n",
        "print(\"Mean:\", data.mean())\n",
        "print(\"Median:\", data.median())\n",
        "print(\"Mode:\", data.mode()[0])\n"
      ],
      "metadata": {
        "id": "6E1VBdZPByEW"
      },
      "execution_count": null,
      "outputs": []
    },
    {
      "cell_type": "code",
      "source": [
        "#  Simulate data using Python and calculate its central tendency and dispersion\n",
        "\n",
        "import numpy as np\n",
        "import statistics\n",
        "\n",
        "data = np.random.randint(1, 100, 20)\n",
        "\n",
        "print(\"Mean:\", statistics.mean(data))\n",
        "print(\"Median:\", statistics.median(data))\n",
        "print(\"Mode:\", statistics.mode(data))\n",
        "print(\"Range:\", max(data) - min(data))\n",
        "print(\"Variance:\", statistics.variance(data))\n",
        "print(\"Std Dev:\", statistics.stdev(data))\n"
      ],
      "metadata": {
        "id": "9eIJBfp6AXOE"
      },
      "execution_count": null,
      "outputs": []
    }
  ]
}